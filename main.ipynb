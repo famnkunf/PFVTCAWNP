{
 "cells": [
  {
   "cell_type": "code",
   "execution_count": null,
   "metadata": {},
   "outputs": [],
   "source": [
    "import netCDF4 as nc\n",
    "from netCDF4 import Dataset\n",
    "import matplotlib.pyplot as plt\n",
    "from scipy.stats import gaussian_kde, poisson\n",
    "import tropycal.tracks as tracks\n",
    "import pandas as pd\n",
    "import numpy as np\n",
    "import datetime as dt\n",
    "import os\n",
    "import re\n",
    "import geopandas as gpd\n",
    "import geodatasets\n",
    "from shapely import geometry\n",
    "import plotly.express as px"
   ]
  },
  {
   "cell_type": "markdown",
   "metadata": {},
   "source": [
    "Western Pacific (WP) locations: 5–60°N 100°–180°E"
   ]
  },
  {
   "cell_type": "code",
   "execution_count": null,
   "metadata": {},
   "outputs": [],
   "source": [
    "s = re.compile('^MRI_HPB_m+\\d{3}.nc$')\n",
    "file_dirs = os.listdir('data')\n",
    "file_dirs\n",
    "data_files = [f for f in file_dirs if s.match(f)]\n",
    "data_files"
   ]
  },
  {
   "cell_type": "code",
   "execution_count": null,
   "metadata": {},
   "outputs": [],
   "source": [
    "datas = [Dataset('data/' + f) for f in data_files]"
   ]
  },
  {
   "cell_type": "code",
   "execution_count": null,
   "metadata": {},
   "outputs": [],
   "source": [
    "for data in datas[:10]:\n",
    "    print(np.nanmax(data['track_lat'][:]), np.nanmin(data['track_lat'][:]), np.nanmax(data['track_lon'][:]), np.nanmin(data['track_lon'][:]))"
   ]
  },
  {
   "cell_type": "code",
   "execution_count": null,
   "metadata": {},
   "outputs": [],
   "source": [
    "storms = {}\n",
    "for data in datas[:10]:\n",
    "    for i in range(0, data.dimensions['storm'].size):\n",
    "    # for i in range(0, 10):\n",
    "        track_lat_any = np.array(data.variables['track_lat'][i])[\n",
    "            (np.array(data.variables['track_lat'][i]) >= 5) &\n",
    "            (np.array(data.variables['track_lat'][i]) <= 60) &\n",
    "            (~np.isnan(np.array(data.variables['track_lat'][i])))\n",
    "        ]\n",
    "        track_lon_any = np.array(data.variables['track_lon'][i])[\n",
    "            (np.array(data.variables['track_lon'][i]) >= 100) & \n",
    "            (np.array(data.variables['track_lon'][i]) <= 180) &\n",
    "            (~np.isnan(np.array(data.variables['track_lon'][i])))\n",
    "        ]\n",
    "        if len(track_lat_any) != 0 and len(track_lon_any) != 0:\n",
    "            # print(data['track_lat'][i])\n",
    "            pass\n",
    "        else:\n",
    "            continue\n",
    "        storms[i] = {\n",
    "            'time': data.variables['track_time'][i],\n",
    "            'lat': data.variables['track_lat'][i],\n",
    "            'lon': data.variables['track_lon'][i],\n",
    "            'pres': data.variables['track_pres'][i],\n",
    "            'wind': data.variables['track_wind'][i]\n",
    "        }\n",
    "# storms"
   ]
  },
  {
   "cell_type": "code",
   "execution_count": null,
   "metadata": {},
   "outputs": [],
   "source": [
    "world = gpd.read_file(geodatasets.get_path('naturalearth.land'))\n",
    "storm_geo = {}\n",
    "for i in storms:\n",
    "    storm_geo[i] = {\n",
    "        # 'time': storms[i]['time'],\n",
    "        'geometry': geometry.LineString((lat, lon) for lat, lon in zip(storms[i]['lon'], storms[i]['lat']) if (not np.isnan(lat) and not np.isnan(lon))),\n",
    "        'featurecla': 'storm',\n",
    "        'scalerank': 1,\n",
    "        'min_zoom': 1,\n",
    "    }\n",
    "df = pd.DataFrame.from_dict(storm_geo, orient='index')\n",
    "roi = gpd.GeoDataFrame(df, geometry='geometry', crs=world.crs)\n",
    "roi\n",
    "# world_roi = pd.concat([world, roi])\n",
    "# world_roi"
   ]
  },
  {
   "cell_type": "code",
   "execution_count": null,
   "metadata": {},
   "outputs": [],
   "source": [
    "roi.explore()"
   ]
  },
  {
   "cell_type": "code",
   "execution_count": null,
   "metadata": {},
   "outputs": [],
   "source": [
    "res = 2\n",
    "lat_max = np.nanmax([np.nanmax(storms[i]['lat']) for i in storms])\n",
    "lat_min = np.nanmin([np.nanmin(storms[i]['lat']) for i in storms])\n",
    "lon_max = np.nanmax([np.nanmax(storms[i]['lon']) for i in storms])\n",
    "lon_min = np.nanmin([np.nanmin(storms[i]['lon']) for i in storms])\n",
    "grids = np.zeros((int((lat_max-lat_min)/res)+1, int((lon_max-lon_min)/res)+1))\n",
    "for i in storms:\n",
    "    cell_coords = {}\n",
    "    for lat, lon in zip(storms[i]['lat'], storms[i]['lon']):\n",
    "        if (not np.isnan(lat) and not np.isnan(lon)):\n",
    "            cell_coords[int((lat-lat_min)/res), int((lon-lon_min)/res)] = 1\n",
    "    for coord in cell_coords:\n",
    "        grids[coord] += 1"
   ]
  },
  {
   "cell_type": "code",
   "execution_count": null,
   "metadata": {},
   "outputs": [],
   "source": [
    "grids"
   ]
  },
  {
   "cell_type": "code",
   "execution_count": null,
   "metadata": {},
   "outputs": [],
   "source": [
    "grid_cells = []\n",
    "for i in range(grids.shape[0]):\n",
    "    for j in range(grids.shape[1]):\n",
    "        grid_cells.append({\n",
    "            'geometry': geometry.Polygon([(lon_min + j*res, lat_min + i*res), (lon_min + j*res, lat_min + (i+1)*res), (lon_min + (j+1)*res, lat_min + (i+1)*res), (lon_min + (j+1)*res, lat_min + i*res)]),\n",
    "            'storm_count': grids[i, j]\n",
    "        })\n",
    "grid_df = pd.DataFrame(grid_cells)\n",
    "grid_gdf = gpd.GeoDataFrame(grid_df, geometry='geometry', crs=world.crs)\n",
    "grid_gdf.explore(column='storm_count', legend=True)"
   ]
  },
  {
   "cell_type": "code",
   "execution_count": null,
   "metadata": {},
   "outputs": [],
   "source": []
  }
 ],
 "metadata": {
  "kernelspec": {
   "display_name": "Python 3",
   "language": "python",
   "name": "python3"
  },
  "language_info": {
   "codemirror_mode": {
    "name": "ipython",
    "version": 3
   },
   "file_extension": ".py",
   "mimetype": "text/x-python",
   "name": "python",
   "nbconvert_exporter": "python",
   "pygments_lexer": "ipython3",
   "version": "3.10.12"
  }
 },
 "nbformat": 4,
 "nbformat_minor": 2
}

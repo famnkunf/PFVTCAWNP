{
 "cells": [
  {
   "cell_type": "code",
   "execution_count": null,
   "metadata": {},
   "outputs": [],
   "source": [
    "%pip install tropycal mpl-tools setuptools_scm netcdf4 seaborn shapely cartopy basemap"
   ]
  },
  {
   "cell_type": "code",
   "execution_count": null,
   "metadata": {
    "id": "s-qMnTwhig2z"
   },
   "outputs": [],
   "source": [
    "import netCDF4 as nc\n",
    "from netCDF4 import Dataset\n",
    "import matplotlib.pyplot as plt\n",
    "import seaborn as sns\n",
    "from scipy.stats import gaussian_kde\n",
    "import tropycal.tracks as tracks\n",
    "import pandas as pd\n",
    "import numpy as np\n",
    "import datetime as dt\n",
    "from mpl_toolkits.basemap import Basemap"
   ]
  },
  {
   "cell_type": "markdown",
   "metadata": {
    "id": "6osTY8IEiyz-"
   },
   "source": [
    "# New Section"
   ]
  },
  {
   "cell_type": "code",
   "execution_count": null,
   "metadata": {
    "id": "5bKcW6kLig22",
    "outputId": "a154f43e-f376-4b7e-ad9f-ec4a3a1375fe"
   },
   "outputs": [],
   "source": [
    "file= Dataset('./IBTrACS.WP.v04r01.nc', 'r')\n",
    "print(file.variables.keys())\n",
    "time = file.variables['time'][:]\n",
    "d_times=nc.num2date(file.variables['time'][:],file.variables['time'].units\n",
    "                    ,only_use_cftime_datetimes=False,only_use_python_datetimes=True)\n",
    "number=file.variables['number'][:]\n",
    "numobs=file.variables['numobs'][:]\n",
    "lat=file.variables['lat'][:]\n",
    "lon=file.variables['lon'][:]\n",
    "file.close() "
   ]
  },
  {
   "cell_type": "markdown",
   "metadata": {
    "id": "6o71ICJlig23"
   },
   "source": [
    "Western Pacific (WP) locations: 5–60°N 100°–180°E"
   ]
  },
  {
   "cell_type": "code",
   "execution_count": null,
   "metadata": {
    "id": "AoPavt9nig24"
   },
   "outputs": [],
   "source": [
    "years=[]\n",
    "for i in range (len(d_times)):\n",
    "    years.append(d_times[i][0].year)"
   ]
  },
  {
   "cell_type": "code",
   "execution_count": null,
   "metadata": {
    "id": "CxKwd0aWig24",
    "outputId": "db60a5b7-5c51-422c-be80-9a4689c8f0b8"
   },
   "outputs": [],
   "source": [
    "df = pd.DataFrame(years, columns=['years'])\n",
    "df['count'] = df.groupby('years')['years'].transform('size')\n",
    "df = df.drop_duplicates().reset_index(drop=True)\n",
    "df"
   ]
  },
  {
   "cell_type": "code",
   "execution_count": null,
   "metadata": {
    "id": "P4AbOdFzig25",
    "outputId": "ab062021-8e69-4f25-e5ff-92d45c764090"
   },
   "outputs": [],
   "source": [
    "(((df['count'].value_counts())*100/len(df)).sort_index()).plot()\n",
    "plt.yscale('log')"
   ]
  },
  {
   "cell_type": "code",
   "execution_count": null,
   "metadata": {},
   "outputs": [],
   "source": [
    "df['count'].value_counts().sort_index()\n"
   ]
  },
  {
   "cell_type": "code",
   "execution_count": null,
   "metadata": {
    "id": "4hET0F1yig25",
    "outputId": "5022c80e-6974-48bf-c85e-76fed8ff2c85"
   },
   "outputs": [],
   "source": [
    "kde=gaussian_kde(df['count'])\n",
    "pdf=kde(df['count'])\n",
    "plt.scatter(df['count'],pdf)\n",
    "plt.yscale('log')\n",
    "plt.grid()\n",
    "plt.show()"
   ]
  },
  {
   "cell_type": "code",
   "execution_count": null,
   "metadata": {
    "id": "nMovTLvaig25",
    "outputId": "bad598d0-7686-490b-fee1-50e2e7cfad4f"
   },
   "outputs": [],
   "source": [
    "file_model=Dataset('./Dataset/d4PDF_tropical_cyclone/MRI_HFB_4K_CC_m101.nc','r')\n",
    "print(file_model.variables.keys())\n",
    "time_model=file_model.variables['track_time'][:]\n",
    "masked_time=np.ma.masked_invalid(time_model)\n",
    "time_model=nc.num2date(masked_time,file_model.variables['track_time'].units\n",
    "                    ,only_use_cftime_datetimes=False,only_use_python_datetimes=True)\n",
    "lat_model=file_model.variables['track_lat'][:]\n",
    "lon_model=file_model.variables['track_lon'][:]\n"
   ]
  },
  {
   "cell_type": "code",
   "execution_count": null,
   "metadata": {},
   "outputs": [],
   "source": []
  },
  {
   "cell_type": "code",
   "execution_count": null,
   "metadata": {},
   "outputs": [],
   "source": []
  }
 ],
 "metadata": {
  "colab": {
   "provenance": []
  },
  "kernelspec": {
   "display_name": "Python 3",
   "language": "python",
   "name": "python3"
  },
  "language_info": {
   "codemirror_mode": {
    "name": "ipython",
    "version": 3
   },
   "file_extension": ".py",
   "mimetype": "text/x-python",
   "name": "python",
   "nbconvert_exporter": "python",
   "pygments_lexer": "ipython3",
   "version": "3.10.12"
  }
 },
 "nbformat": 4,
 "nbformat_minor": 0
}

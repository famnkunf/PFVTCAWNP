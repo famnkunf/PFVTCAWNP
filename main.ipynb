{
 "cells": [
  {
   "cell_type": "code",
   "execution_count": 2,
   "metadata": {},
   "outputs": [],
   "source": [
    "import netCDF4 as nc\n",
    "from netCDF4 import Dataset\n",
    "import matplotlib.pyplot as plt\n",
    "from scipy.stats import gaussian_kde, poisson\n",
    "import tropycal.tracks as tracks\n",
    "import pandas as pd\n",
    "import numpy as np\n",
    "import datetime as dt"
   ]
  },
  {
   "cell_type": "code",
   "execution_count": 3,
   "metadata": {},
   "outputs": [
    {
     "name": "stdout",
     "output_type": "stream",
     "text": [
      "dict_keys(['numobs', 'sid', 'season', 'number', 'basin', 'subbasin', 'name', 'source_usa', 'source_jma', 'source_cma', 'source_hko', 'source_kma', 'source_new', 'source_reu', 'source_bom', 'source_nad', 'source_wel', 'source_td5', 'source_td6', 'source_ds8', 'source_neu', 'source_mlc', 'time', 'iso_time', 'nature', 'lat', 'lon', 'wmo_wind', 'wmo_pres', 'wmo_agency', 'track_type', 'main_track_sid', 'dist2land', 'landfall', 'iflag', 'usa_agency', 'usa_atcf_id', 'usa_lat', 'usa_lon', 'usa_record', 'usa_status', 'usa_wind', 'usa_pres', 'usa_sshs', 'usa_r34', 'usa_r50', 'usa_r64', 'usa_poci', 'usa_roci', 'usa_rmw', 'usa_eye', 'tokyo_lat', 'tokyo_lon', 'tokyo_grade', 'tokyo_wind', 'tokyo_pres', 'tokyo_r50_dir', 'tokyo_r50_long', 'tokyo_r50_short', 'tokyo_r30_dir', 'tokyo_r30_long', 'tokyo_r30_short', 'tokyo_land', 'cma_lat', 'cma_lon', 'cma_cat', 'cma_wind', 'cma_pres', 'hko_lat', 'hko_lon', 'hko_cat', 'hko_wind', 'hko_pres', 'kma_lat', 'kma_lon', 'kma_cat', 'kma_wind', 'kma_pres', 'kma_r50_dir', 'kma_r50_long', 'kma_r50_short', 'kma_r30_dir', 'kma_r30_long', 'kma_r30_short', 'newdelhi_lat', 'newdelhi_lon', 'newdelhi_grade', 'newdelhi_wind', 'newdelhi_pres', 'newdelhi_ci', 'newdelhi_dp', 'newdelhi_poci', 'reunion_lat', 'reunion_lon', 'reunion_type', 'reunion_wind', 'reunion_pres', 'reunion_tnum', 'reunion_ci', 'reunion_rmw', 'reunion_r34', 'reunion_r50', 'reunion_r64', 'bom_lat', 'bom_lon', 'bom_type', 'bom_wind', 'bom_pres', 'bom_tnum', 'bom_ci', 'bom_rmw', 'bom_r34', 'bom_r50', 'bom_r64', 'bom_roci', 'bom_poci', 'bom_eye', 'bom_pos_method', 'bom_pres_method', 'nadi_lat', 'nadi_lon', 'nadi_cat', 'nadi_wind', 'nadi_pres', 'wellington_lat', 'wellington_lon', 'wellington_wind', 'wellington_pres', 'ds824_lat', 'ds824_lon', 'ds824_stage', 'ds824_wind', 'ds824_pres', 'td9636_lat', 'td9636_lon', 'td9636_stage', 'td9636_wind', 'td9636_pres', 'td9635_lat', 'td9635_lon', 'td9635_wind', 'td9635_pres', 'td9635_roci', 'neumann_lat', 'neumann_lon', 'neumann_class', 'neumann_wind', 'neumann_pres', 'mlc_lat', 'mlc_lon', 'mlc_class', 'mlc_wind', 'mlc_pres', 'usa_gust', 'bom_gust', 'bom_gust_per', 'reunion_gust', 'reunion_gust_per', 'usa_seahgt', 'usa_searad', 'storm_speed', 'storm_dir'])\n"
     ]
    }
   ],
   "source": [
    "file= Dataset('./Dataset/IBTrACS.WP.v04r01.nc', 'r')\n",
    "print(file.variables.keys())\n",
    "time = file.variables['time'][:]\n",
    "d_times=nc.num2date(file.variables['time'][:],file.variables['time'].units\n",
    "                    ,only_use_cftime_datetimes=False,only_use_python_datetimes=True)\n",
    "sid=file.variables['sid'][:]\n",
    "number=file.variables['number'][:]\n",
    "numobs=file.variables['numobs'][:]\n",
    "season=file.variables['season'][:]\n",
    "basins = file.variables['basin'][:]\n",
    "lat=file.variables['lat'][:]\n",
    "lon=file.variables['lon'][:]\n",
    "file.close()"
   ]
  },
  {
   "cell_type": "markdown",
   "metadata": {},
   "source": [
    "Western Pacific (WP) locations: 5–60°N 100°–180°E"
   ]
  },
  {
   "cell_type": "code",
   "execution_count": 4,
   "metadata": {},
   "outputs": [],
   "source": [
    "years=[]\n",
    "for i in range (len(d_times)):\n",
    "    years.append(d_times[i][0].year)"
   ]
  },
  {
   "cell_type": "code",
   "execution_count": 5,
   "metadata": {},
   "outputs": [
    {
     "data": {
      "text/html": [
       "<div>\n",
       "<style scoped>\n",
       "    .dataframe tbody tr th:only-of-type {\n",
       "        vertical-align: middle;\n",
       "    }\n",
       "\n",
       "    .dataframe tbody tr th {\n",
       "        vertical-align: top;\n",
       "    }\n",
       "\n",
       "    .dataframe thead th {\n",
       "        text-align: right;\n",
       "    }\n",
       "</style>\n",
       "<table border=\"1\" class=\"dataframe\">\n",
       "  <thead>\n",
       "    <tr style=\"text-align: right;\">\n",
       "      <th></th>\n",
       "      <th>years</th>\n",
       "      <th>count</th>\n",
       "    </tr>\n",
       "  </thead>\n",
       "  <tbody>\n",
       "    <tr>\n",
       "      <th>0</th>\n",
       "      <td>1884</td>\n",
       "      <td>14</td>\n",
       "    </tr>\n",
       "    <tr>\n",
       "      <th>1</th>\n",
       "      <td>1885</td>\n",
       "      <td>9</td>\n",
       "    </tr>\n",
       "    <tr>\n",
       "      <th>2</th>\n",
       "      <td>1886</td>\n",
       "      <td>15</td>\n",
       "    </tr>\n",
       "    <tr>\n",
       "      <th>3</th>\n",
       "      <td>1887</td>\n",
       "      <td>21</td>\n",
       "    </tr>\n",
       "    <tr>\n",
       "      <th>4</th>\n",
       "      <td>1888</td>\n",
       "      <td>13</td>\n",
       "    </tr>\n",
       "    <tr>\n",
       "      <th>...</th>\n",
       "      <td>...</td>\n",
       "      <td>...</td>\n",
       "    </tr>\n",
       "    <tr>\n",
       "      <th>136</th>\n",
       "      <td>2020</td>\n",
       "      <td>28</td>\n",
       "    </tr>\n",
       "    <tr>\n",
       "      <th>137</th>\n",
       "      <td>2021</td>\n",
       "      <td>29</td>\n",
       "    </tr>\n",
       "    <tr>\n",
       "      <th>138</th>\n",
       "      <td>2022</td>\n",
       "      <td>31</td>\n",
       "    </tr>\n",
       "    <tr>\n",
       "      <th>139</th>\n",
       "      <td>2023</td>\n",
       "      <td>20</td>\n",
       "    </tr>\n",
       "    <tr>\n",
       "      <th>140</th>\n",
       "      <td>2024</td>\n",
       "      <td>12</td>\n",
       "    </tr>\n",
       "  </tbody>\n",
       "</table>\n",
       "<p>141 rows × 2 columns</p>\n",
       "</div>"
      ],
      "text/plain": [
       "     years  count\n",
       "0     1884     14\n",
       "1     1885      9\n",
       "2     1886     15\n",
       "3     1887     21\n",
       "4     1888     13\n",
       "..     ...    ...\n",
       "136   2020     28\n",
       "137   2021     29\n",
       "138   2022     31\n",
       "139   2023     20\n",
       "140   2024     12\n",
       "\n",
       "[141 rows x 2 columns]"
      ]
     },
     "execution_count": 5,
     "metadata": {},
     "output_type": "execute_result"
    }
   ],
   "source": [
    "df = pd.DataFrame(years, columns=['years'])\n",
    "df['count'] = df.groupby('years')['years'].transform('size')\n",
    "df = df.drop_duplicates().reset_index(drop=True)\n",
    "df"
   ]
  },
  {
   "cell_type": "code",
   "execution_count": 9,
   "metadata": {},
   "outputs": [
    {
     "data": {
      "image/png": "[encoded data removed]",
      "text/plain": [
       "<Figure size 640x480 with 1 Axes>"
      ]
     },
     "metadata": {},
     "output_type": "display_data"
    }
   ],
   "source": [
    "count, bins, ignored = plt.hist(df['count'],10, density=True,# show probability density\n",
    "                                 alpha=0)\n",
    "bins_centers = (bins[:-1] + bins[1:]) / 2\n",
    "plt.plot(bins_centers, count, 'o-', color='r')\n",
    "plt.yscale('log')\n",
    "plt.grid(True, which=\"both\", ls=\"-\", alpha=0.2)\n",
    "plt.grid(True, which=\"minor\", ls=\":\", alpha=0.2)"
   ]
  },
  {
   "cell_type": "code",
   "execution_count": 8,
   "metadata": {},
   "outputs": [
    {
     "name": "stdout",
     "output_type": "stream",
     "text": [
      "dict_keys(['track_time', 'track_lat', 'track_lon', 'track_pres', 'track_wind'])\n"
     ]
    }
   ],
   "source": [
    "file_model=Dataset('./Dataset/d4PDF_tropical_cyclone/MRI_HFB_4K_CC_m101.nc','r')\n",
    "print(file_model.variables.keys())\n",
    "time_model=file_model.variables['track_time'][:]\n",
    "masked_time=np.ma.masked_invalid(time_model)\n",
    "time_model=nc.num2date(masked_time,file_model.variables['track_time'].units \n",
    "                    ,only_use_cftime_datetimes=False,only_use_python_datetimes=True)\n",
    "lat_model=file_model.variables['track_lat'][:]\n",
    "lon_model=file_model.variables['track_lon'][:]\n",
    "file_model.close()"
   ]
  }
 ],
 "metadata": {
  "kernelspec": {
   "display_name": "venv",
   "language": "python",
   "name": "python3"
  },
  "language_info": {
   "codemirror_mode": {
    "name": "ipython",
    "version": 3
   },
   "file_extension": ".py",
   "mimetype": "text/x-python",
   "name": "python",
   "nbconvert_exporter": "python",
   "pygments_lexer": "ipython3",
   "version": "3.12.6"
  }
 },
 "nbformat": 4,
 "nbformat_minor": 2
}
